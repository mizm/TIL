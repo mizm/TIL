{
 "cells": [
  {
   "cell_type": "markdown",
   "metadata": {},
   "source": [
    "# 가상화폐 시세 판단하기"
   ]
  },
  {
   "cell_type": "markdown",
   "metadata": {},
   "source": [
    "> 최고가와 최저가의 차이를 변동폭으로 정의할 때 (시가 + 변동폭)이 최고가 보다 높을 경우 \"상승장\", 그렇지 않은 경우 \"하락장\" 문자열을 출력하라.\n",
    "\n",
    "|Key Name        |     Description|\n",
    "|---|---|\n",
    "|opeing_price    |최근 24시간 내 시작 거래금액|\n",
    "|closing_price   |최근 24시간 내 마지막 거래금액|\n",
    "|min_price       |최근 24시간 내 최저 거래금액|\n",
    "|max_price       |최근 24시간 내 최고 거래금액|"
   ]
  },
  {
   "cell_type": "code",
   "execution_count": 2,
   "metadata": {},
   "outputs": [
    {
     "name": "stdout",
     "output_type": "stream",
     "text": [
      "{'opening_price': '4269000', 'closing_price': '4330000', 'min_price': '4240000', 'max_price': '4379000', 'average_price': '4308916.5443', 'units_traded': '15819.12481803', 'volume_1day': '15819.12481803', 'volume_7day': '43059.00396634', 'buy_price': '4330000', 'sell_price': '4334000', '24H_fluctate': '61000', '24H_fluctate_rate': '1.42', 'date': '1546490683057'}\n"
     ]
    }
   ],
   "source": [
    "import requests\n",
    "btc = requests.get('https://api.bithumb.com/public/ticker/btc').json()['data']\n",
    "print(btc)"
   ]
  },
  {
   "cell_type": "code",
   "execution_count": 3,
   "metadata": {},
   "outputs": [
    {
     "name": "stdout",
     "output_type": "stream",
     "text": [
      "상승장\n"
     ]
    }
   ],
   "source": [
    "# 아래에 코드를 작성하세요.\n",
    "print(\"상승장\") if int(btc['opening_price'])+int(btc['max_price'])-int(btc['min_price']) > int(btc['max_price']) else print(\"하락장\")"
   ]
  },
  {
   "cell_type": "markdown",
   "metadata": {},
   "source": [
    "## 모든 가상화폐 시세 판단하기\n",
    "\n",
    "\n",
    "> currrency dictionary에 담겨있는 모든 가상화폐 거래내역을 바탕으로 출력하라.\n",
    ">\n",
    "> 예외 처리에 유의하세요.\n",
    "\n",
    "\n",
    "\n",
    "```\n",
    "예시 출력)\n",
    "BTC 상승장\n",
    "ETH 상승장\n",
    "DASH 상승장\n",
    "LTC 하락장\n",
    "ETC 하락장\n",
    "XRP 상승장\n",
    "BCH 상승장\n",
    "...\n",
    "```\n"
   ]
  },
  {
   "cell_type": "code",
   "execution_count": 8,
   "metadata": {},
   "outputs": [
    {
     "name": "stdout",
     "output_type": "stream",
     "text": [
      "{'BTC': {'opening_price': '4269000', 'closing_price': '4330000', 'min_price': '4240000', 'max_price': '4379000', 'average_price': '4308973.326', 'units_traded': '15822.69021803', 'volume_1day': '15822.69021803', 'volume_7day': '43059.00396634', 'buy_price': '4330000', 'sell_price': '4333000', '24H_fluctate': '61000', '24H_fluctate_rate': '1.42'}, 'ETH': {'opening_price': '157300', 'closing_price': '171900', 'min_price': '156600', 'max_price': '174000', 'average_price': '167875.6926', 'units_traded': '523048.08250382', 'volume_1day': '523048.08250382', 'volume_7day': '1549711.385746324597840048', 'buy_price': '171800', 'sell_price': '171900', '24H_fluctate': '14600', '24H_fluctate_rate': '9.28'}, 'DASH': {'opening_price': '89500', 'closing_price': '93400', 'min_price': '88000', 'max_price': '94800', 'average_price': '93105.8314', 'units_traded': '4481048.54963055', 'volume_1day': '4481048.54963055', 'volume_7day': '35204929.56632653', 'buy_price': '93050', 'sell_price': '93400', '24H_fluctate': '3900', '24H_fluctate_rate': '4.35'}, 'LTC': {'opening_price': '35480', 'closing_price': '36820', 'min_price': '35230', 'max_price': '37330', 'average_price': '36412.4394', 'units_traded': '74868.56684569', 'volume_1day': '74868.56684569', 'volume_7day': '178318.34450726', 'buy_price': '36810', 'sell_price': '36820', '24H_fluctate': '1340', '24H_fluctate_rate': '3.77'}, 'ETC': {'opening_price': '5840', 'closing_price': '5965', 'min_price': '5785', 'max_price': '6040', 'average_price': '5947.5858', 'units_traded': '189390.46997705', 'volume_1day': '189390.46997705', 'volume_7day': '1929409.401296646632995491', 'buy_price': '5955', 'sell_price': '5965', '24H_fluctate': '125', '24H_fluctate_rate': '2.14'}, 'XRP': {'opening_price': '403', 'closing_price': '412', 'min_price': '399', 'max_price': '420', 'average_price': '410.2749', 'units_traded': '73447276.65404429', 'volume_1day': '73447276.65404429', 'volume_7day': '507452330.34056138', 'buy_price': '411', 'sell_price': '412', '24H_fluctate': '9', '24H_fluctate_rate': '2.23'}, 'BCH': {'opening_price': '182100', 'closing_price': '188800', 'min_price': '179600', 'max_price': '195900', 'average_price': '186279.6703', 'units_traded': '77248.90676728', 'volume_1day': '77248.90676728', 'volume_7day': '607854.39205281', 'buy_price': '188900', 'sell_price': '189100', '24H_fluctate': '6700', '24H_fluctate_rate': '3.67'}, 'XMR': {'opening_price': '53600', 'closing_price': '57150', 'min_price': '53400', 'max_price': '59600', 'average_price': '57467.1373', 'units_traded': '12330954.64590932', 'volume_1day': '12330954.64590932', 'volume_7day': '55998869.42029975087', 'buy_price': '57100', 'sell_price': '57300', '24H_fluctate': '3550', '24H_fluctate_rate': '6.62'}, 'ZEC': {'opening_price': '65300', 'closing_price': '67150', 'min_price': '64400', 'max_price': '69150', 'average_price': '67004.6796', 'units_traded': '884891.83781206', 'volume_1day': '884891.83781206', 'volume_7day': '42233771.09704041', 'buy_price': '67050', 'sell_price': '67200', '24H_fluctate': '1850', '24H_fluctate_rate': '2.83'}, 'QTUM': {'opening_price': '2491', 'closing_price': '2558', 'min_price': '2434', 'max_price': '2599', 'average_price': '2528.8391', 'units_traded': '346813.16480913', 'volume_1day': '346813.16480913', 'volume_7day': '5291162.26463097', 'buy_price': '2555', 'sell_price': '2560', '24H_fluctate': '67', '24H_fluctate_rate': '2.68'}, 'BTG': {'opening_price': '14550', 'closing_price': '14960', 'min_price': '14300', 'max_price': '15100', 'average_price': '14884.4992', 'units_traded': '20749900.25870743', 'volume_1day': '20749900.25870743', 'volume_7day': '95384807.51321575', 'buy_price': '14850', 'sell_price': '14940', '24H_fluctate': '410', '24H_fluctate_rate': '2.81'}, 'EOS': {'opening_price': '2945', 'closing_price': '3146', 'min_price': '2926', 'max_price': '3204', 'average_price': '3080.5792', 'units_traded': '3660385.78558754', 'volume_1day': '3660385.78558754', 'volume_7day': '24552183.00526815', 'buy_price': '3147', 'sell_price': '3150', '24H_fluctate': '201', '24H_fluctate_rate': '6.82'}, 'ICX': {'opening_price': '271', 'closing_price': '295', 'min_price': '269', 'max_price': '297', 'average_price': '283.1822', 'units_traded': '1001554.92506714', 'volume_1day': '1001554.92506714', 'volume_7day': '3605096.64453377154449053', 'buy_price': '293', 'sell_price': '295', '24H_fluctate': '24', '24H_fluctate_rate': '8.85'}, 'VET': {'opening_price': '7.25', 'closing_price': '7.25', 'min_price': '7', 'max_price': '7.35', 'average_price': '7.2211', 'units_traded': '8905205.39228259', 'volume_1day': '8905205.39228259', 'volume_7day': '73680897.058210628192044491', 'buy_price': '7.23', 'sell_price': '7.25', '24H_fluctate': '0', '24H_fluctate_rate': '0.00'}, 'TRX': {'opening_price': '21.5', 'closing_price': '22.2', 'min_price': '21.3', 'max_price': '22.5', 'average_price': '21.9426', 'units_traded': '106176947.4591905', 'volume_1day': '106176947.4591905', 'volume_7day': '881335523.27927154', 'buy_price': '22.1', 'sell_price': '22.2', '24H_fluctate': '0.7', '24H_fluctate_rate': '3.25'}, 'ELF': {'opening_price': '126', 'closing_price': '128', 'min_price': '123', 'max_price': '132', 'average_price': '127.9564', 'units_traded': '1976320.58558338', 'volume_1day': '1976320.58558338', 'volume_7day': '16187229.727460584399320283', 'buy_price': '128', 'sell_price': '129', '24H_fluctate': '2', '24H_fluctate_rate': '1.58'}, 'MITH': {'opening_price': '69.4', 'closing_price': '70.9', 'min_price': '68.1', 'max_price': '72.5', 'average_price': '70.4735', 'units_traded': '13504384.93337066', 'volume_1day': '13504384.93337066', 'volume_7day': '114297099.837334075138812498', 'buy_price': '70.9', 'sell_price': '71', '24H_fluctate': '1.5', '24H_fluctate_rate': '2.16'}, 'MCO': {'opening_price': '2451', 'closing_price': '2604', 'min_price': '2409', 'max_price': '2700', 'average_price': '2572.2906', 'units_traded': '832755.46385181', 'volume_1day': '832755.46385181', 'volume_7day': '1166667.12782396', 'buy_price': '2604', 'sell_price': '2629', '24H_fluctate': '153', '24H_fluctate_rate': '6.24'}, 'OMG': {'opening_price': '1600', 'closing_price': '1673', 'min_price': '1588', 'max_price': '1705', 'average_price': '1652.3869', 'units_traded': '203492.05472042', 'volume_1day': '203492.05472042', 'volume_7day': '9961439.121676881507231663', 'buy_price': '1660', 'sell_price': '1672', '24H_fluctate': '73', '24H_fluctate_rate': '4.56'}, 'KNC': {'opening_price': '178', 'closing_price': '185', 'min_price': '178', 'max_price': '188', 'average_price': '182.4882', 'units_traded': '1259016.228192', 'volume_1day': '1259016.228192', 'volume_7day': '7459210.496976792226516373', 'buy_price': '184', 'sell_price': '186', '24H_fluctate': '7', '24H_fluctate_rate': '3.93'}, 'GNT': {'opening_price': '74.8', 'closing_price': '77.8', 'min_price': '74.4', 'max_price': '79', 'average_price': '77.2709', 'units_traded': '2591596.50636369', 'volume_1day': '2591596.50636369', 'volume_7day': '37919479.182510589477199817', 'buy_price': '77.1', 'sell_price': '78', '24H_fluctate': '3', '24H_fluctate_rate': '4.01'}, 'ZIL': {'opening_price': '22.8', 'closing_price': '22.7', 'min_price': '22.1', 'max_price': '23.3', 'average_price': '22.7796', 'units_traded': '33668855.93670596', 'volume_1day': '33668855.93670596', 'volume_7day': '470525752.133766746086', 'buy_price': '22.6', 'sell_price': '22.7', '24H_fluctate': '-0.1', '24H_fluctate_rate': '-0.43'}, 'ETHOS': {'opening_price': '1130', 'closing_price': '1118', 'min_price': '1060', 'max_price': '1156', 'average_price': '1105.7955', 'units_traded': '385724.28744974', 'volume_1day': '385724.28744974', 'volume_7day': '7598297.55875883', 'buy_price': '1103', 'sell_price': '1113', '24H_fluctate': '-12', '24H_fluctate_rate': '-1.06'}, 'PAY': {'opening_price': '1860', 'closing_price': '1801', 'min_price': '1690', 'max_price': '1875', 'average_price': '1797.4249', 'units_traded': '550093.920594', 'volume_1day': '550093.920594', 'volume_7day': '12061881.637426976652719418', 'buy_price': '1800', 'sell_price': '1801', '24H_fluctate': '-59', '24H_fluctate_rate': '-3.17'}, 'WAX': {'opening_price': '109', 'closing_price': '107', 'min_price': '103', 'max_price': '110', 'average_price': '107.2363', 'units_traded': '1364894.51325296', 'volume_1day': '1364894.51325296', 'volume_7day': '21467785.61866097', 'buy_price': '106', 'sell_price': '107', '24H_fluctate': '-2', '24H_fluctate_rate': '-1.83'}, 'POWR': {'opening_price': '560', 'closing_price': '544', 'min_price': '500', 'max_price': '566', 'average_price': '537.5236', 'units_traded': '857676.38230137', 'volume_1day': '857676.38230137', 'volume_7day': '7860649.90149574', 'buy_price': '539', 'sell_price': '544', '24H_fluctate': '-16', '24H_fluctate_rate': '-2.85'}, 'LRC': {'opening_price': '602', 'closing_price': '586', 'min_price': '568', 'max_price': '610', 'average_price': '589.9647', 'units_traded': '340191.73726611', 'volume_1day': '340191.73726611', 'volume_7day': '3878987.412022897867907104', 'buy_price': '585', 'sell_price': '593', '24H_fluctate': '-16', '24H_fluctate_rate': '-2.65'}, 'GTO': {'opening_price': '74.7', 'closing_price': '72.8', 'min_price': '70.5', 'max_price': '74.7', 'average_price': '72.5257', 'units_traded': '2109476.04624819', 'volume_1day': '2109476.04624819', 'volume_7day': '25735167.45887941', 'buy_price': '72.2', 'sell_price': '72.8', '24H_fluctate': '-1.9', '24H_fluctate_rate': '-2.54'}, 'STEEM': {'opening_price': '1852', 'closing_price': '1853', 'min_price': '1800', 'max_price': '1919', 'average_price': '1852.3872', 'units_traded': '121108.84007375', 'volume_1day': '121108.84007375', 'volume_7day': '1683670.2566389', 'buy_price': '1849', 'sell_price': '1873', '24H_fluctate': '1', '24H_fluctate_rate': '0.05'}, 'STRAT': {'opening_price': '2935', 'closing_price': '2866', 'min_price': '2697', 'max_price': '2935', 'average_price': '2836.4746', 'units_traded': '87047.06480842', 'volume_1day': '87047.06480842', 'volume_7day': '715044.36418604', 'buy_price': '2866', 'sell_price': '2910', '24H_fluctate': '-69', '24H_fluctate_rate': '-2.35'}, 'ZRX': {'opening_price': '353', 'closing_price': '365', 'min_price': '353', 'max_price': '367', 'average_price': '360.7108', 'units_traded': '762898.19394643', 'volume_1day': '762898.19394643', 'volume_7day': '7113739.224705206988258056', 'buy_price': '363', 'sell_price': '364', '24H_fluctate': '12', '24H_fluctate_rate': '3.39'}, 'REP': {'opening_price': '98250', 'closing_price': '98450', 'min_price': '95650', 'max_price': '101000', 'average_price': '98062.4872', 'units_traded': '5968.00982481', 'volume_1day': '5968.00982481', 'volume_7day': '98923.111596350512509211', 'buy_price': '98450', 'sell_price': '98800', '24H_fluctate': '200', '24H_fluctate_rate': '0.20'}, 'AE': {'opening_price': '1699', 'closing_price': '1650', 'min_price': '1605', 'max_price': '1720', 'average_price': '1651.6734', 'units_traded': '141341.49816829', 'volume_1day': '141341.49816829', 'volume_7day': '2319643.579637368926801516', 'buy_price': '1649', 'sell_price': '1650', '24H_fluctate': '-49', '24H_fluctate_rate': '-2.88'}, 'XEM': {'opening_price': '72.7', 'closing_price': '74.3', 'min_price': '71.2', 'max_price': '87.8', 'average_price': '76.0453', 'units_traded': '9544686.49144388', 'volume_1day': '9544686.49144388', 'volume_7day': '21148690.67103642', 'buy_price': '73.5', 'sell_price': '74.3', '24H_fluctate': '1.6', '24H_fluctate_rate': '2.20'}, 'SNT': {'opening_price': '117', 'closing_price': '119', 'min_price': '108', 'max_price': '120', 'average_price': '116.1058', 'units_traded': '3048322.97931696', 'volume_1day': '3048322.97931696', 'volume_7day': '25815266.657900793852414189', 'buy_price': '117', 'sell_price': '119', '24H_fluctate': '2', '24H_fluctate_rate': '1.70'}, 'ADA': {'opening_price': '77', 'closing_price': '78.7', 'min_price': '75.9', 'max_price': '79.5', 'average_price': '77.8663', 'units_traded': '2765712.32424736', 'volume_1day': '2765712.32424736', 'volume_7day': '40318324.24148218', 'buy_price': '78.7', 'sell_price': '78.8', '24H_fluctate': '1.7', '24H_fluctate_rate': '2.20'}, 'PPT': {'opening_price': '1678', 'closing_price': '1691', 'min_price': '1636', 'max_price': '1707', 'average_price': '1681.5668', 'units_traded': '33845.45258692', 'volume_1day': '33845.45258692', 'volume_7day': '757294.58974952', 'buy_price': '1675', 'sell_price': '1691', '24H_fluctate': '13', '24H_fluctate_rate': '0.77'}, 'CTXC': {'opening_price': '114', 'closing_price': '119', 'min_price': '112', 'max_price': '123', 'average_price': '117.8121', 'units_traded': '1756031.38519295', 'volume_1day': '1756031.38519295', 'volume_7day': '12084115.624507975775543446', 'buy_price': '119', 'sell_price': '120', '24H_fluctate': '5', '24H_fluctate_rate': '4.38'}, 'CMT': {'opening_price': '36', 'closing_price': '35.5', 'min_price': '32.4', 'max_price': '38.1', 'average_price': '36.1118', 'units_traded': '13536231.1769092', 'volume_1day': '13536231.1769092', 'volume_7day': '40554801.276410217290073956', 'buy_price': '34.8', 'sell_price': '35.5', '24H_fluctate': '-0.5', '24H_fluctate_rate': '-1.38'}, 'THETA': {'opening_price': '54.8', 'closing_price': '57', 'min_price': '52.8', 'max_price': '60', 'average_price': '55.7603', 'units_traded': '12994221.43053796', 'volume_1day': '12994221.43053796', 'volume_7day': '95419766.654409200836930498', 'buy_price': '56.5', 'sell_price': '57', '24H_fluctate': '2.2', '24H_fluctate_rate': '4.01'}, 'WTC': {'opening_price': '1260', 'closing_price': '1288', 'min_price': '1220', 'max_price': '1288', 'average_price': '1257.0021', 'units_traded': '105420.8187831', 'volume_1day': '105420.8187831', 'volume_7day': '2370016.395762167178244233', 'buy_price': '1267', 'sell_price': '1287', '24H_fluctate': '28', '24H_fluctate_rate': '2.22'}, 'ITC': {'opening_price': '136', 'closing_price': '140', 'min_price': '133', 'max_price': '142', 'average_price': '137.9465', 'units_traded': '2269601.42311271', 'volume_1day': '2269601.42311271', 'volume_7day': '28676128.620394788160658672', 'buy_price': '140', 'sell_price': '141', '24H_fluctate': '4', '24H_fluctate_rate': '2.94'}, 'TRUE': {'opening_price': '289', 'closing_price': '296', 'min_price': '280', 'max_price': '306', 'average_price': '292.1263', 'units_traded': '492309.83573792', 'volume_1day': '492309.83573792', 'volume_7day': '6717121.508066149412041869', 'buy_price': '292', 'sell_price': '296', '24H_fluctate': '7', '24H_fluctate_rate': '2.42'}, 'ABT': {'opening_price': '100', 'closing_price': '98.4', 'min_price': '92.8', 'max_price': '128', 'average_price': '108.3555', 'units_traded': '30651001.83650168', 'volume_1day': '30651001.83650168', 'volume_7day': '41358963.258004442921137791', 'buy_price': '98.4', 'sell_price': '99', '24H_fluctate': '-1.6', '24H_fluctate_rate': '-1.60'}, 'RNT': {'opening_price': '99.5', 'closing_price': '141', 'min_price': '96.4', 'max_price': '164', 'average_price': '135.07', 'units_traded': '69778854.07036341', 'volume_1day': '69778854.07036341', 'volume_7day': '109269788.023012830357532673', 'buy_price': '139', 'sell_price': '141', '24H_fluctate': '41.5', '24H_fluctate_rate': '41.70'}, 'PLY': {'opening_price': '38.5', 'closing_price': '38.6', 'min_price': '36.9', 'max_price': '41.3', 'average_price': '39.0531', 'units_traded': '29564681.36576236', 'volume_1day': '29564681.36576236', 'volume_7day': '105102037.957594582', 'buy_price': '38.4', 'sell_price': '38.6', '24H_fluctate': '0.1', '24H_fluctate_rate': '0.25'}, 'WAVES': {'opening_price': '3502', 'closing_price': '3488', 'min_price': '3384', 'max_price': '3528', 'average_price': '3460.0769', 'units_traded': '1111826.87718897', 'volume_1day': '1111826.87718897', 'volume_7day': '2930731.73037814', 'buy_price': '3470', 'sell_price': '3488', '24H_fluctate': '-14', '24H_fluctate_rate': '-0.39'}, 'LINK': {'opening_price': '334', 'closing_price': '427', 'min_price': '330', 'max_price': '446', 'average_price': '378.2753', 'units_traded': '2017971.45118832', 'volume_1day': '2017971.45118832', 'volume_7day': '5508074.201653735744749308', 'buy_price': '427', 'sell_price': '428', '24H_fluctate': '93', '24H_fluctate_rate': '27.84'}, 'ENJ': {'opening_price': '44.8', 'closing_price': '44.4', 'min_price': '43.7', 'max_price': '45.9', 'average_price': '44.6635', 'units_traded': '3515132.02387866', 'volume_1day': '3515132.02387866', 'volume_7day': '32878915.884621664890108229', 'buy_price': '44.3', 'sell_price': '44.5', '24H_fluctate': '-0.4', '24H_fluctate_rate': '-0.89'}, 'PST': {'opening_price': '108', 'closing_price': '116', 'min_price': '105', 'max_price': '123', 'average_price': '115.1503', 'units_traded': '3516452.59821568', 'volume_1day': '3516452.59821568', 'volume_7day': '10957203.357934906301717168', 'buy_price': '113', 'sell_price': '116', '24H_fluctate': '8', '24H_fluctate_rate': '7.40'}, 'SALT': {'opening_price': '269', 'closing_price': '281', 'min_price': '265', 'max_price': '285', 'average_price': '273.9932', 'units_traded': '1575838.73513363', 'volume_1day': '1575838.73513363', 'volume_7day': '12978395.94101024', 'buy_price': '281', 'sell_price': '283', '24H_fluctate': '12', '24H_fluctate_rate': '4.46'}, 'RDN': {'opening_price': '262', 'closing_price': '319', 'min_price': '260', 'max_price': '350', 'average_price': '318.1304', 'units_traded': '6285308.88113866', 'volume_1day': '6285308.88113866', 'volume_7day': '20986606.897394257359668468', 'buy_price': '317', 'sell_price': '319', '24H_fluctate': '57', '24H_fluctate_rate': '21.75'}, 'LOOM': {'opening_price': '50.6', 'closing_price': '55.6', 'min_price': '50.2', 'max_price': '60', 'average_price': '55.1168', 'units_traded': '10879963.8362713', 'volume_1day': '10879963.8362713', 'volume_7day': '27886054.178619631791954907', 'buy_price': '55.6', 'sell_price': '56.2', '24H_fluctate': '5', '24H_fluctate_rate': '9.88'}, 'BHPC': {'opening_price': '921', 'closing_price': '910', 'min_price': '895', 'max_price': '930', 'average_price': '910.3087', 'units_traded': '704266.32740982', 'volume_1day': '704266.32740982', 'volume_7day': '9508964.003103000926551395', 'buy_price': '909', 'sell_price': '910', '24H_fluctate': '-11', '24H_fluctate_rate': '-1.19'}, 'PIVX': {'opening_price': '947', 'closing_price': '970', 'min_price': '929', 'max_price': '990', 'average_price': '961.7052', 'units_traded': '381762.40111671', 'volume_1day': '381762.40111671', 'volume_7day': '10767117.21531736', 'buy_price': '967', 'sell_price': '970', '24H_fluctate': '23', '24H_fluctate_rate': '2.42'}, 'INS': {'opening_price': '310', 'closing_price': '332', 'min_price': '307', 'max_price': '369', 'average_price': '332.6911', 'units_traded': '2647790.60023219', 'volume_1day': '2647790.60023219', 'volume_7day': '10241148.992852938', 'buy_price': '330', 'sell_price': '332', '24H_fluctate': '22', '24H_fluctate_rate': '7.09'}, 'BCD': {'opening_price': '1018', 'closing_price': '1031', 'min_price': '1002', 'max_price': '1040', 'average_price': '1022.1967', 'units_traded': '221409.56692678', 'volume_1day': '221409.56692678', 'volume_7day': '2455898.98882558', 'buy_price': '1031', 'sell_price': '1039', '24H_fluctate': '13', '24H_fluctate_rate': '1.27'}, 'BZNT': {'opening_price': '25.9', 'closing_price': '27.8', 'min_price': '25.4', 'max_price': '31.9', 'average_price': '29.2042', 'units_traded': '92378804.19426558', 'volume_1day': '92378804.19426558', 'volume_7day': '164836680.516019928969348457', 'buy_price': '27.6', 'sell_price': '27.8', '24H_fluctate': '1.9', '24H_fluctate_rate': '7.33'}, 'XLM': {'opening_price': '127', 'closing_price': '130', 'min_price': '126', 'max_price': '133', 'average_price': '129.3285', 'units_traded': '7124971.91880881', 'volume_1day': '7124971.91880881', 'volume_7day': '52939399.12068626', 'buy_price': '130', 'sell_price': '131', '24H_fluctate': '3', '24H_fluctate_rate': '2.36'}, 'OCN': {'opening_price': '4.07', 'closing_price': '3.98', 'min_price': '3.87', 'max_price': '4.1', 'average_price': '3.9675', 'units_traded': '84311671.23967928', 'volume_1day': '84311671.23967928', 'volume_7day': '1977901710.943272945025734319', 'buy_price': '3.97', 'sell_price': '3.98', '24H_fluctate': '-0.09', '24H_fluctate_rate': '-2.21'}, 'BSV': {'opening_price': '102500', 'closing_price': '102900', 'min_price': '100000', 'max_price': '106900', 'average_price': '102792.133', 'units_traded': '39818.7430622', 'volume_1day': '39818.7430622', 'volume_7day': '291250.16002145', 'buy_price': '102700', 'sell_price': '103000', '24H_fluctate': '400', '24H_fluctate_rate': '0.39'}, 'TMTG': {'opening_price': '8.44', 'closing_price': '8.35', 'min_price': '8.3', 'max_price': '8.5', 'average_price': '8.3874', 'units_traded': '205327379.9885009', 'volume_1day': '205327379.9885009', 'volume_7day': '1405909360.503860708761798155', 'buy_price': '8.36', 'sell_price': '8.38', '24H_fluctate': '-0.09', '24H_fluctate_rate': '-1.06'}, 'BAT': {'opening_price': '147', 'closing_price': '148', 'min_price': '145', 'max_price': '154', 'average_price': '148.6423', 'units_traded': '1293704.07704217', 'volume_1day': '1293704.07704217', 'volume_7day': '6921766.670851938532966919', 'buy_price': '147', 'sell_price': '150', '24H_fluctate': '1', '24H_fluctate_rate': '0.68'}, 'WET': {'opening_price': '13.8', 'closing_price': '14.2', 'min_price': '13.6', 'max_price': '14.6', 'average_price': '14.1093', 'units_traded': '32008971.86630886', 'volume_1day': '32008971.86630886', 'volume_7day': '218468623.371768161936344749', 'buy_price': '14.1', 'sell_price': '14.2', '24H_fluctate': '0.4', '24H_fluctate_rate': '2.89'}, 'XVG': {'opening_price': '7.9', 'closing_price': '8.03', 'min_price': '7.78', 'max_price': '8.09', 'average_price': '7.9191', 'units_traded': '6650436.22235046', 'volume_1day': '6650436.22235046', 'volume_7day': '52470438.46362393', 'buy_price': '7.97', 'sell_price': '8.03', '24H_fluctate': '0.13', '24H_fluctate_rate': '1.64'}, 'IOST': {'opening_price': '6.11', 'closing_price': '6.39', 'min_price': '6.05', 'max_price': '6.63', 'average_price': '6.389', 'units_traded': '470179749.6786453', 'volume_1day': '470179749.6786453', 'volume_7day': '1076855950.493160944748355167', 'buy_price': '6.41', 'sell_price': '6.46', '24H_fluctate': '0.28', '24H_fluctate_rate': '4.58'}, 'POLY': {'opening_price': '157', 'closing_price': '160', 'min_price': '155', 'max_price': '165', 'average_price': '159.9918', 'units_traded': '1076355.00179356', 'volume_1day': '1076355.00179356', 'volume_7day': '13740007.437669457706647263', 'buy_price': '159', 'sell_price': '161', '24H_fluctate': '3', '24H_fluctate_rate': '1.91'}, 'HC': {'opening_price': '1432', 'closing_price': '1438', 'min_price': '1390', 'max_price': '1453', 'average_price': '1420.4274', 'units_traded': '67938.90892437', 'volume_1day': '67938.90892437', 'volume_7day': '1087609.38083894', 'buy_price': '1422', 'sell_price': '1438', '24H_fluctate': '6', '24H_fluctate_rate': '0.41'}, 'MEETONE': [], 'ADD': [], 'HORUS': [], 'CHL': [], 'EOSDAC': [], 'BLACK': [], 'ROM': {'opening_price': '0.14', 'closing_price': '0.12', 'min_price': '0.12', 'max_price': '0.14', 'average_price': '0.1276', 'units_traded': '20435981311.26566209', 'volume_1day': '20435981311.26566209', 'volume_7day': '175540207615.958358583380084302', 'buy_price': '0.12', 'sell_price': '0.13', '24H_fluctate': '-0.02', '24H_fluctate_rate': '-14.28'}, 'AMO': {'opening_price': '2', 'closing_price': '1.75', 'min_price': '1.66', 'max_price': '2.8', 'average_price': '1.7936', 'units_traded': '23568920967.50561338', 'volume_1day': '23568920967.50561338', 'volume_7day': '23562022975.014399095610587263', 'buy_price': '1.74', 'sell_price': '1.75', '24H_fluctate': '-0.25', '24H_fluctate_rate': '-12.50'}, 'date': '1546490807055'}\n"
     ]
    }
   ],
   "source": [
    "currency = requests.get('https://api.bithumb.com/public/ticker/all').json()['data']\n",
    "print(currency)"
   ]
  },
  {
   "cell_type": "code",
   "execution_count": 30,
   "metadata": {},
   "outputs": [
    {
     "name": "stdout",
     "output_type": "stream",
     "text": [
      "BTC 상승장\n",
      "ETH 상승장\n",
      "DASH 상승장\n",
      "LTC 상승장\n",
      "ETC 상승장\n",
      "XRP 상승장\n",
      "BCH 상승장\n",
      "XMR 상승장\n",
      "ZEC 상승장\n",
      "QTUM 상승장\n",
      "BTG 상승장\n",
      "EOS 상승장\n",
      "ICX 상승장\n",
      "VET 상승장\n",
      "TRX 상승장\n",
      "ELF 상승장\n",
      "MITH 상승장\n",
      "MCO 상승장\n",
      "OMG 상승장\n",
      "KNC 하락장\n",
      "GNT 상승장\n",
      "ZIL 상승장\n",
      "ETHOS 상승장\n",
      "PAY 상승장\n",
      "WAX 상승장\n",
      "POWR 상승장\n",
      "LRC 상승장\n",
      "GTO 상승장\n",
      "STEEM 상승장\n",
      "STRAT 상승장\n",
      "ZRX 하락장\n",
      "REP 상승장\n",
      "AE 상승장\n",
      "XEM 상승장\n",
      "SNT 상승장\n",
      "ADA 상승장\n",
      "PPT 상승장\n",
      "CTXC 상승장\n",
      "CMT 상승장\n",
      "THETA 상승장\n",
      "WTC 상승장\n",
      "ITC 상승장\n",
      "TRUE 상승장\n",
      "ABT 상승장\n",
      "RNT 상승장\n",
      "PLY 상승장\n",
      "WAVES 상승장\n",
      "LINK 상승장\n",
      "ENJ 상승장\n",
      "PST 상승장\n",
      "SALT 상승장\n",
      "RDN 상승장\n",
      "LOOM 상승장\n",
      "BHPC 상승장\n",
      "PIVX 상승장\n",
      "INS 상승장\n",
      "BCD 상승장\n",
      "BZNT 상승장\n",
      "XLM 상승장\n",
      "OCN 상승장\n",
      "BSV 상승장\n",
      "TMTG 상승장\n",
      "BAT 상승장\n",
      "WET 상승장\n",
      "XVG 상승장\n",
      "IOST 상승장\n",
      "POLY 상승장\n",
      "HC 상승장\n",
      "ROM 상승장\n",
      "AMO 상승장\n"
     ]
    }
   ],
   "source": [
    "# 아래에 코드를 작성하세요.\n",
    "for k in currency :\n",
    "    if not currency[k] or k == 'date' :\n",
    "        continue\n",
    "    print(f'{k} ',end='')\n",
    "    print(\"상승장\") if float(currency[k]['opening_price'])+float(currency[k]['max_price'])-float(currency[k]['min_price']) > float(currency[k]['max_price']) else print(\"하락장\")"
   ]
  },
  {
   "cell_type": "code",
   "execution_count": null,
   "metadata": {},
   "outputs": [],
   "source": []
  }
 ],
 "metadata": {
  "kernelspec": {
   "display_name": "Python 3",
   "language": "python",
   "name": "python3"
  },
  "language_info": {
   "codemirror_mode": {
    "name": "ipython",
    "version": 3
   },
   "file_extension": ".py",
   "mimetype": "text/x-python",
   "name": "python",
   "nbconvert_exporter": "python",
   "pygments_lexer": "ipython3",
   "version": "3.7.1"
  },
  "toc": {
   "base_numbering": 1,
   "nav_menu": {},
   "number_sections": true,
   "sideBar": true,
   "skip_h1_title": false,
   "title_cell": "Table of Contents",
   "title_sidebar": "Contents",
   "toc_cell": false,
   "toc_position": {},
   "toc_section_display": true,
   "toc_window_display": false
  }
 },
 "nbformat": 4,
 "nbformat_minor": 2
}
