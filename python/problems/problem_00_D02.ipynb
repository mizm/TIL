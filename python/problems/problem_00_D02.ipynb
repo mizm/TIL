{
 "cells": [
  {
   "cell_type": "markdown",
   "metadata": {},
   "source": [
    "# 가상화폐 시세 판단하기"
   ]
  },
  {
   "cell_type": "markdown",
   "metadata": {},
   "source": [
    "> 최고가와 최저가의 차이를 변동폭으로 정의할 때 (시가 + 변동폭)이 최고가 보다 높을 경우 \"상승장\", 그렇지 않은 경우 \"하락장\" 문자열을 출력하라.\n",
    "\n",
    "|Key Name        |     Description|\n",
    "|---|---|\n",
    "|opeing_price    |최근 24시간 내 시작 거래금액|\n",
    "|closing_price   |최근 24시간 내 마지막 거래금액|\n",
    "|min_price       |최근 24시간 내 최저 거래금액|\n",
    "|max_price       |최근 24시간 내 최고 거래금액|"
   ]
  },
  {
   "cell_type": "code",
   "execution_count": 1,
   "metadata": {},
   "outputs": [
    {
     "name": "stdout",
     "output_type": "stream",
     "text": [
      "{'opening_price': '4278000', 'closing_price': '4319000', 'min_price': '4276000', 'max_price': '4379000', 'average_price': '4318669.3903', 'units_traded': '15947.88196479', 'volume_1day': '15947.88196479', 'volume_7day': '42856.37922716', 'buy_price': '4318000', 'sell_price': '4319000', '24H_fluctate': '41000', '24H_fluctate_rate': '0.95', 'date': '1546519937518'}\n"
     ]
    }
   ],
   "source": [
    "import requests\n",
    "btc = requests.get('https://api.bithumb.com/public/ticker/btc').json()['data']\n",
    "print(btc)"
   ]
  },
  {
   "cell_type": "code",
   "execution_count": 2,
   "metadata": {},
   "outputs": [
    {
     "name": "stdout",
     "output_type": "stream",
     "text": [
      "하락장\n"
     ]
    }
   ],
   "source": [
    "\n",
    "#print(\"상승장\") if int(btc['opening_price'])+int(btc['max_price'])-int(btc['min_price']) > int(btc['max_price']) else print(\"하락장\")\n",
    "if int(btc['max_price']) > int(btc['opening_price']) + int(btc['max_price']) - int(btc['min_price']):\n",
    "    print('상승장')\n",
    "else:\n",
    "    print('하락장')"
   ]
  },
  {
   "cell_type": "markdown",
   "metadata": {},
   "source": [
    "## 모든 가상화폐 시세 판단하기\n",
    "\n",
    "\n",
    "> currrency dictionary에 담겨있는 모든 가상화폐 거래내역을 바탕으로 출력하라.\n",
    ">\n",
    "> 예외 처리에 유의하세요.\n",
    "\n",
    "\n",
    "\n",
    "```\n",
    "예시 출력)\n",
    "BTC 상승장\n",
    "ETH 상승장\n",
    "DASH 상승장\n",
    "LTC 하락장\n",
    "ETC 하락장\n",
    "XRP 상승장\n",
    "BCH 상승장\n",
    "...\n",
    "```\n"
   ]
  },
  {
   "cell_type": "code",
   "execution_count": 6,
   "metadata": {},
   "outputs": [
    {
     "name": "stdout",
     "output_type": "stream",
     "text": [
      "{'BTC': {'opening_price': '4277000', 'closing_price': '4326000', 'min_price': '4277000', 'max_price': '4379000', 'average_price': '4318863.5005', 'units_traded': '15958.67463094', 'volume_1day': '15958.67463094', 'volume_7day': '42856.37922716', 'buy_price': '4325000', 'sell_price': '4327000', '24H_fluctate': '49000', '24H_fluctate_rate': '1.14'}, 'ETH': {'opening_price': '167100', 'closing_price': '168100', 'min_price': '163600', 'max_price': '174000', 'average_price': '169668.8819', 'units_traded': '495224.03962227', 'volume_1day': '495224.03962227', 'volume_7day': '1605136.371001365744410833', 'buy_price': '168200', 'sell_price': '168400', '24H_fluctate': '1000', '24H_fluctate_rate': '0.59'}, 'DASH': {'opening_price': '92000', 'closing_price': '91500', 'min_price': '90900', 'max_price': '94800', 'average_price': '93510.934', 'units_traded': '4312675.14402344', 'volume_1day': '4312675.14402344', 'volume_7day': '34373237.37164772', 'buy_price': '91200', 'sell_price': '91500', '24H_fluctate': '-500', '24H_fluctate_rate': '-0.54'}, 'LTC': {'opening_price': '36200', 'closing_price': '35850', 'min_price': '35600', 'max_price': '37330', 'average_price': '36499.2012', 'units_traded': '74661.67452435', 'volume_1day': '74661.67452435', 'volume_7day': '177066.2794273', 'buy_price': '35850', 'sell_price': '35940', '24H_fluctate': '-350', '24H_fluctate_rate': '-0.96'}, 'ETC': {'opening_price': '5925', 'closing_price': '5750', 'min_price': '5740', 'max_price': '6040', 'average_price': '5934.8456', 'units_traded': '198885.04269136', 'volume_1day': '198885.04269136', 'volume_7day': '1737810.388391039816177579', 'buy_price': '5750', 'sell_price': '5770', '24H_fluctate': '-175', '24H_fluctate_rate': '-2.95'}, 'XRP': {'opening_price': '408', 'closing_price': '407', 'min_price': '402', 'max_price': '420', 'average_price': '410.8115', 'units_traded': '71800185.57385257', 'volume_1day': '71800185.57385257', 'volume_7day': '507801454.96160963', 'buy_price': '407', 'sell_price': '408', '24H_fluctate': '-1', '24H_fluctate_rate': '-0.24'}, 'BCH': {'opening_price': '182900', 'closing_price': '184500', 'min_price': '180500', 'max_price': '195900', 'average_price': '187158.2528', 'units_traded': '74764.75284226', 'volume_1day': '74764.75284226', 'volume_7day': '607412.14883961', 'buy_price': '184100', 'sell_price': '184500', '24H_fluctate': '1600', '24H_fluctate_rate': '0.87'}, 'XMR': {'opening_price': '54950', 'closing_price': '55950', 'min_price': '54900', 'max_price': '59600', 'average_price': '57520.7946', 'units_traded': '12338188.65028859', 'volume_1day': '12338188.65028859', 'volume_7day': '56009157.163676633627', 'buy_price': '55700', 'sell_price': '55950', '24H_fluctate': '1000', '24H_fluctate_rate': '1.81'}, 'ZEC': {'opening_price': '66550', 'closing_price': '65850', 'min_price': '64900', 'max_price': '69150', 'average_price': '67213.705', 'units_traded': '681577.44070242', 'volume_1day': '681577.44070242', 'volume_7day': '42233542.34494024', 'buy_price': '65850', 'sell_price': '66000', '24H_fluctate': '-700', '24H_fluctate_rate': '-1.05'}, 'QTUM': {'opening_price': '2495', 'closing_price': '2506', 'min_price': '2457', 'max_price': '2599', 'average_price': '2532.6505', 'units_traded': '407731.39695252', 'volume_1day': '407731.39695252', 'volume_7day': '3119882.06989393', 'buy_price': '2495', 'sell_price': '2506', '24H_fluctate': '11', '24H_fluctate_rate': '0.44'}, 'BTG': {'opening_price': '14650', 'closing_price': '14730', 'min_price': '14530', 'max_price': '15100', 'average_price': '14907.2092', 'units_traded': '19552931.71903003', 'volume_1day': '19552931.71903003', 'volume_7day': '95339762.43074671', 'buy_price': '14700', 'sell_price': '14730', '24H_fluctate': '80', '24H_fluctate_rate': '0.54'}, 'EOS': {'opening_price': '3013', 'closing_price': '3070', 'min_price': '3002', 'max_price': '3204', 'average_price': '3112.6798', 'units_traded': '3348610.66428108', 'volume_1day': '3348610.66428108', 'volume_7day': '24287823.51816541', 'buy_price': '3070', 'sell_price': '3071', '24H_fluctate': '57', '24H_fluctate_rate': '1.89'}, 'ICX': {'opening_price': '274', 'closing_price': '292', 'min_price': '270', 'max_price': '318', 'average_price': '292.2383', 'units_traded': '1983944.77222542', 'volume_1day': '1983944.77222542', 'volume_7day': '4534057.237401608214609404', 'buy_price': '289', 'sell_price': '296', '24H_fluctate': '18', '24H_fluctate_rate': '6.56'}, 'VET': {'opening_price': '7.18', 'closing_price': '7.22', 'min_price': '7.12', 'max_price': '7.35', 'average_price': '7.239', 'units_traded': '9220259.98448312', 'volume_1day': '9220259.98448312', 'volume_7day': '74995945.682296156276458067', 'buy_price': '7.15', 'sell_price': '7.22', '24H_fluctate': '0.04', '24H_fluctate_rate': '0.55'}, 'TRX': {'opening_price': '21.9', 'closing_price': '22.3', 'min_price': '21.8', 'max_price': '22.5', 'average_price': '22.0779', 'units_traded': '92920883.86413121', 'volume_1day': '92920883.86413121', 'volume_7day': '878950037.81141485', 'buy_price': '22.2', 'sell_price': '22.3', '24H_fluctate': '0.4', '24H_fluctate_rate': '1.82'}, 'ELF': {'opening_price': '127', 'closing_price': '133', 'min_price': '125', 'max_price': '135', 'average_price': '130.0084', 'units_traded': '3423403.83789322', 'volume_1day': '3423403.83789322', 'volume_7day': '17852683.303192190519267775', 'buy_price': '133', 'sell_price': '134', '24H_fluctate': '6', '24H_fluctate_rate': '4.72'}, 'MITH': {'opening_price': '71.3', 'closing_price': '69.8', 'min_price': '68.8', 'max_price': '72.5', 'average_price': '70.8454', 'units_traded': '12259083.40784535', 'volume_1day': '12259083.40784535', 'volume_7day': '114076704.85245102896743011', 'buy_price': '69.5', 'sell_price': '69.8', '24H_fluctate': '-1.5', '24H_fluctate_rate': '-2.10'}, 'MCO': {'opening_price': '2555', 'closing_price': '2617', 'min_price': '2501', 'max_price': '2700', 'average_price': '2590.8116', 'units_traded': '816754.82911524', 'volume_1day': '816754.82911524', 'volume_7day': '1156778.00723058', 'buy_price': '2550', 'sell_price': '2617', '24H_fluctate': '62', '24H_fluctate_rate': '2.42'}, 'OMG': {'opening_price': '1637', 'closing_price': '1652', 'min_price': '1622', 'max_price': '1705', 'average_price': '1665.1148', 'units_traded': '1325516.54400188', 'volume_1day': '1325516.54400188', 'volume_7day': '11060061.917946242305503783', 'buy_price': '1641', 'sell_price': '1652', '24H_fluctate': '15', '24H_fluctate_rate': '0.91'}, 'KNC': {'opening_price': '181', 'closing_price': '180', 'min_price': '177', 'max_price': '188', 'average_price': '183.0307', 'units_traded': '1209396.78900471', 'volume_1day': '1209396.78900471', 'volume_7day': '7490275.656254375512795312', 'buy_price': '179', 'sell_price': '180', '24H_fluctate': '-1', '24H_fluctate_rate': '-0.55'}, 'GNT': {'opening_price': '78.3', 'closing_price': '76', 'min_price': '75.5', 'max_price': '78.5', 'average_price': '77.3735', 'units_traded': '1784447.4941608', 'volume_1day': '1784447.4941608', 'volume_7day': '38172307.068014668424697438', 'buy_price': '76', 'sell_price': '76.6', '24H_fluctate': '-2.3', '24H_fluctate_rate': '-2.93'}, 'ZIL': {'opening_price': '22.8', 'closing_price': '22.6', 'min_price': '22.1', 'max_price': '23.3', 'average_price': '22.6636', 'units_traded': '30301787.96124634', 'volume_1day': '30301787.96124634', 'volume_7day': '467846119.618484986034', 'buy_price': '22.5', 'sell_price': '22.6', '24H_fluctate': '-0.2', '24H_fluctate_rate': '-0.87'}, 'ETHOS': {'opening_price': '1076', 'closing_price': '1100', 'min_price': '1074', 'max_price': '1177', 'average_price': '1108.5087', 'units_traded': '328445.81773656', 'volume_1day': '328445.81773656', 'volume_7day': '6919754.54796033', 'buy_price': '1100', 'sell_price': '1106', '24H_fluctate': '24', '24H_fluctate_rate': '2.23'}, 'PAY': {'opening_price': '1784', 'closing_price': '1790', 'min_price': '1757', 'max_price': '1875', 'average_price': '1809.2143', 'units_traded': '312517.00759895', 'volume_1day': '312517.00759895', 'volume_7day': '10103304.915195815184100728', 'buy_price': '1781', 'sell_price': '1790', '24H_fluctate': '6', '24H_fluctate_rate': '0.33'}, 'WAX': {'opening_price': '108', 'closing_price': '106', 'min_price': '104', 'max_price': '110', 'average_price': '106.9664', 'units_traded': '1368448.9426752', 'volume_1day': '1368448.9426752', 'volume_7day': '21034146.14384708', 'buy_price': '105', 'sell_price': '106', '24H_fluctate': '-2', '24H_fluctate_rate': '-1.85'}, 'POWR': {'opening_price': '531', 'closing_price': '523', 'min_price': '523', 'max_price': '560', 'average_price': '539.4359', 'units_traded': '591300.88247181', 'volume_1day': '591300.88247181', 'volume_7day': '6961784.39782835', 'buy_price': '523', 'sell_price': '524', '24H_fluctate': '-8', '24H_fluctate_rate': '-1.50'}, 'LRC': {'opening_price': '570', 'closing_price': '570', 'min_price': '568', 'max_price': '610', 'average_price': '585.954', 'units_traded': '251250.41286033', 'volume_1day': '251250.41286033', 'volume_7day': '3434390.712122805109003375', 'buy_price': '570', 'sell_price': '572', '24H_fluctate': '0', '24H_fluctate_rate': '0.00'}, 'GTO': {'opening_price': '71.6', 'closing_price': '71.3', 'min_price': '71.2', 'max_price': '74.3', 'average_price': '72.6266', 'units_traded': '1759159.79154819', 'volume_1day': '1759159.79154819', 'volume_7day': '25483589.07824229', 'buy_price': '71.4', 'sell_price': '71.5', '24H_fluctate': '-0.3', '24H_fluctate_rate': '-0.41'}, 'STEEM': {'opening_price': '1816', 'closing_price': '1839', 'min_price': '1810', 'max_price': '1919', 'average_price': '1863.6623', 'units_traded': '96959.32321664', 'volume_1day': '96959.32321664', 'volume_7day': '1586622.34580455', 'buy_price': '1820', 'sell_price': '1839', '24H_fluctate': '23', '24H_fluctate_rate': '1.26'}, 'STRAT': {'opening_price': '2844', 'closing_price': '2887', 'min_price': '2766', 'max_price': '2919', 'average_price': '2864.272', 'units_traded': '56821.87588538', 'volume_1day': '56821.87588538', 'volume_7day': '665520.19226776', 'buy_price': '2850', 'sell_price': '2886', '24H_fluctate': '43', '24H_fluctate_rate': '1.51'}, 'ZRX': {'opening_price': '356', 'closing_price': '370', 'min_price': '356', 'max_price': '370', 'average_price': '363.9391', 'units_traded': '938173.05304511', 'volume_1day': '938173.05304511', 'volume_7day': '6789599.333824605318531509', 'buy_price': '368', 'sell_price': '370', '24H_fluctate': '14', '24H_fluctate_rate': '3.93'}, 'REP': {'opening_price': '97100', 'closing_price': '97450', 'min_price': '96100', 'max_price': '101000', 'average_price': '98309.4137', 'units_traded': '5260.55563046', 'volume_1day': '5260.55563046', 'volume_7day': '96702.97197303706901448', 'buy_price': '97450', 'sell_price': '97600', '24H_fluctate': '350', '24H_fluctate_rate': '0.36'}, 'AE': {'opening_price': '1627', 'closing_price': '1622', 'min_price': '1616', 'max_price': '1720', 'average_price': '1652.8896', 'units_traded': '109644.07100303', 'volume_1day': '109644.07100303', 'volume_7day': '2207892.897136217611008465', 'buy_price': '1624', 'sell_price': '1641', '24H_fluctate': '-5', '24H_fluctate_rate': '-0.30'}, 'XEM': {'opening_price': '75.3', 'closing_price': '73.4', 'min_price': '72.6', 'max_price': '76.9', 'average_price': '73.8477', 'units_traded': '5187571.78150495', 'volume_1day': '5187571.78150495', 'volume_7day': '21360635.35833714', 'buy_price': '73.1', 'sell_price': '73.4', '24H_fluctate': '-1.9', '24H_fluctate_rate': '-2.52'}, 'SNT': {'opening_price': '117', 'closing_price': '117', 'min_price': '115', 'max_price': '120', 'average_price': '117.5813', 'units_traded': '1964555.51241043', 'volume_1day': '1964555.51241043', 'volume_7day': '25643534.134172302721550108', 'buy_price': '116', 'sell_price': '117', '24H_fluctate': '0', '24H_fluctate_rate': '0.00'}, 'ADA': {'opening_price': '77.7', 'closing_price': '77.5', 'min_price': '75.5', 'max_price': '79.5', 'average_price': '77.8318', 'units_traded': '2754589.69267337', 'volume_1day': '2754589.69267337', 'volume_7day': '40925822.08116148', 'buy_price': '77.1', 'sell_price': '77.5', '24H_fluctate': '-0.2', '24H_fluctate_rate': '-0.25'}, 'PPT': {'opening_price': '1644', 'closing_price': '1670', 'min_price': '1640', 'max_price': '1707', 'average_price': '1679.4193', 'units_traded': '39336.43357077', 'volume_1day': '39336.43357077', 'volume_7day': '756530.31354952', 'buy_price': '1662', 'sell_price': '1670', '24H_fluctate': '26', '24H_fluctate_rate': '1.58'}, 'CTXC': {'opening_price': '120', 'closing_price': '117', 'min_price': '115', 'max_price': '123', 'average_price': '118.8691', 'units_traded': '1840674.45810833', 'volume_1day': '1840674.45810833', 'volume_7day': '12151784.281500972974422999', 'buy_price': '117', 'sell_price': '119', '24H_fluctate': '-3', '24H_fluctate_rate': '-2.50'}, 'CMT': {'opening_price': '37.8', 'closing_price': '34.8', 'min_price': '32.4', 'max_price': '38.1', 'average_price': '35.8728', 'units_traded': '9126397.06701703', 'volume_1day': '9126397.06701703', 'volume_7day': '40716053.158274225533387834', 'buy_price': '34.1', 'sell_price': '34.7', '24H_fluctate': '-3', '24H_fluctate_rate': '-7.93'}, 'THETA': {'opening_price': '53.8', 'closing_price': '55.6', 'min_price': '53.7', 'max_price': '60', 'average_price': '56.8993', 'units_traded': '11682099.89030331', 'volume_1day': '11682099.89030331', 'volume_7day': '96279502.064542782211591147', 'buy_price': '55.7', 'sell_price': '56.1', '24H_fluctate': '1.8', '24H_fluctate_rate': '3.34'}, 'WTC': {'opening_price': '1254', 'closing_price': '1282', 'min_price': '1220', 'max_price': '1328', 'average_price': '1281.4366', 'units_traded': '176659.52115842', 'volume_1day': '176659.52115842', 'volume_7day': '2401767.576019393666114173', 'buy_price': '1270', 'sell_price': '1282', '24H_fluctate': '28', '24H_fluctate_rate': '2.23'}, 'ITC': {'opening_price': '136', 'closing_price': '136', 'min_price': '135', 'max_price': '142', 'average_price': '138.3858', 'units_traded': '2443200.35813879', 'volume_1day': '2443200.35813879', 'volume_7day': '21335850.232412416374153773', 'buy_price': '136', 'sell_price': '137', '24H_fluctate': '0', '24H_fluctate_rate': '0.00'}, 'TRUE': {'opening_price': '291', 'closing_price': '295', 'min_price': '286', 'max_price': '337', 'average_price': '304.8138', 'units_traded': '1876880.52398746', 'volume_1day': '1876880.52398746', 'volume_7day': '8127086.749307288688029141', 'buy_price': '293', 'sell_price': '294', '24H_fluctate': '4', '24H_fluctate_rate': '1.37'}, 'ABT': {'opening_price': '105', 'closing_price': '101', 'min_price': '96.4', 'max_price': '128', 'average_price': '111.0271', 'units_traded': '26282536.42553365', 'volume_1day': '26282536.42553365', 'volume_7day': '47637107.726814412734315526', 'buy_price': '101', 'sell_price': '102', '24H_fluctate': '-4', '24H_fluctate_rate': '-3.80'}, 'RNT': {'opening_price': '126', 'closing_price': '139', 'min_price': '125', 'max_price': '183', 'average_price': '148.892', 'units_traded': '101138897.80340036', 'volume_1day': '101138897.80340036', 'volume_7day': '160568099.486393769131231574', 'buy_price': '139', 'sell_price': '140', '24H_fluctate': '13', '24H_fluctate_rate': '10.31'}, 'PLY': {'opening_price': '40.2', 'closing_price': '37.9', 'min_price': '36.9', 'max_price': '40.8', 'average_price': '38.9136', 'units_traded': '21240555.82608694', 'volume_1day': '21240555.82608694', 'volume_7day': '107589323.981399589', 'buy_price': '38', 'sell_price': '38.4', '24H_fluctate': '-2.3', '24H_fluctate_rate': '-5.72'}, 'WAVES': {'opening_price': '3425', 'closing_price': '3460', 'min_price': '3409', 'max_price': '3528', 'average_price': '3467.5223', 'units_traded': '1084037.13163104', 'volume_1day': '1084037.13163104', 'volume_7day': '2770903.62615253', 'buy_price': '3442', 'sell_price': '3460', '24H_fluctate': '35', '24H_fluctate_rate': '1.02'}, 'LINK': {'opening_price': '333', 'closing_price': '401', 'min_price': '333', 'max_price': '446', 'average_price': '393.4019', 'units_traded': '8216946.99841093', 'volume_1day': '8216946.99841093', 'volume_7day': '11543843.255894014222800097', 'buy_price': '400', 'sell_price': '401', '24H_fluctate': '68', '24H_fluctate_rate': '20.42'}, 'ENJ': {'opening_price': '45', 'closing_price': '43.5', 'min_price': '43.1', 'max_price': '45.9', 'average_price': '44.4021', 'units_traded': '3749003.12878866', 'volume_1day': '3749003.12878866', 'volume_7day': '25827645.409037998865556682', 'buy_price': '43.4', 'sell_price': '43.8', '24H_fluctate': '-1.5', '24H_fluctate_rate': '-3.33'}, 'PST': {'opening_price': '119', 'closing_price': '114', 'min_price': '108', 'max_price': '123', 'average_price': '115.599', 'units_traded': '2374204.98736096', 'volume_1day': '2374204.98736096', 'volume_7day': '9773766.094359459548425499', 'buy_price': '111', 'sell_price': '112', '24H_fluctate': '-5', '24H_fluctate_rate': '-4.20'}, 'SALT': {'opening_price': '267', 'closing_price': '271', 'min_price': '267', 'max_price': '289', 'average_price': '275.9', 'units_traded': '1979119.90158339', 'volume_1day': '1979119.90158339', 'volume_7day': '12917393.96980116', 'buy_price': '269', 'sell_price': '271', '24H_fluctate': '4', '24H_fluctate_rate': '1.49'}, 'RDN': {'opening_price': '263', 'closing_price': '316', 'min_price': '262', 'max_price': '350', 'average_price': '317.6909', 'units_traded': '8276977.62239138', 'volume_1day': '8276977.62239138', 'volume_7day': '22825069.263543350115751357', 'buy_price': '314', 'sell_price': '316', '24H_fluctate': '53', '24H_fluctate_rate': '20.15'}, 'LOOM': {'opening_price': '51.7', 'closing_price': '58.8', 'min_price': '51', 'max_price': '63.8', 'average_price': '57.2846', 'units_traded': '24099234.89058188', 'volume_1day': '24099234.89058188', 'volume_7day': '41994314.992724181026996482', 'buy_price': '58.4', 'sell_price': '58.7', '24H_fluctate': '7.1', '24H_fluctate_rate': '13.73'}, 'BHPC': {'opening_price': '907', 'closing_price': '912', 'min_price': '898', 'max_price': '930', 'average_price': '912.6722', 'units_traded': '617729.37842025', 'volume_1day': '617729.37842025', 'volume_7day': '8953823.439424128298237463', 'buy_price': '909', 'sell_price': '912', '24H_fluctate': '5', '24H_fluctate_rate': '0.55'}, 'PIVX': {'opening_price': '962', 'closing_price': '941', 'min_price': '928', 'max_price': '990', 'average_price': '964.0365', 'units_traded': '290733.9360247', 'volume_1day': '290733.9360247', 'volume_7day': '10707230.96842675', 'buy_price': '930', 'sell_price': '940', '24H_fluctate': '-21', '24H_fluctate_rate': '-2.18'}, 'INS': {'opening_price': '314', 'closing_price': '325', 'min_price': '312', 'max_price': '369', 'average_price': '331.9374', 'units_traded': '3095896.09079255', 'volume_1day': '3095896.09079255', 'volume_7day': '9383218.7740100034', 'buy_price': '324', 'sell_price': '325', '24H_fluctate': '11', '24H_fluctate_rate': '3.50'}, 'BCD': {'opening_price': '1009', 'closing_price': '1021', 'min_price': '1006', 'max_price': '1040', 'average_price': '1026.4168', 'units_traded': '177866.62837777', 'volume_1day': '177866.62837777', 'volume_7day': '2064752.81204843', 'buy_price': '1012', 'sell_price': '1021', '24H_fluctate': '12', '24H_fluctate_rate': '1.18'}, 'BZNT': {'opening_price': '30', 'closing_price': '27.9', 'min_price': '26.9', 'max_price': '31.8', 'average_price': '29.2507', 'units_traded': '75475947.23814288', 'volume_1day': '75475947.23814288', 'volume_7day': '175252737.697036437906512431', 'buy_price': '27.9', 'sell_price': '28.1', '24H_fluctate': '-2.1', '24H_fluctate_rate': '-7.00'}, 'XLM': {'opening_price': '129', 'closing_price': '129', 'min_price': '127', 'max_price': '133', 'average_price': '129.7201', 'units_traded': '6783385.31932662', 'volume_1day': '6783385.31932662', 'volume_7day': '52058274.74562552', 'buy_price': '128', 'sell_price': '129', '24H_fluctate': '0', '24H_fluctate_rate': '0.00'}, 'OCN': {'opening_price': '3.95', 'closing_price': '3.86', 'min_price': '3.81', 'max_price': '4.05', 'average_price': '3.9517', 'units_traded': '60533457.78641503', 'volume_1day': '60533457.78641503', 'volume_7day': '1970612655.47164406992841031', 'buy_price': '3.83', 'sell_price': '3.86', '24H_fluctate': '-0.09', '24H_fluctate_rate': '-2.27'}, 'BSV': {'opening_price': '101900', 'closing_price': '101200', 'min_price': '99400', 'max_price': '106900', 'average_price': '102725.6812', 'units_traded': '35748.79720987', 'volume_1day': '35748.79720987', 'volume_7day': '288499.57762485', 'buy_price': '100700', 'sell_price': '101100', '24H_fluctate': '-700', '24H_fluctate_rate': '-0.68'}, 'TMTG': {'opening_price': '8.36', 'closing_price': '8.21', 'min_price': '8.1', 'max_price': '8.5', 'average_price': '8.336', 'units_traded': '215823139.66564097', 'volume_1day': '215823139.66564097', 'volume_7day': '1447680998.693538445451168562', 'buy_price': '8.21', 'sell_price': '8.23', '24H_fluctate': '-0.15', '24H_fluctate_rate': '-1.79'}, 'BAT': {'opening_price': '148', 'closing_price': '147', 'min_price': '144', 'max_price': '154', 'average_price': '147.8763', 'units_traded': '1931306.9655327', 'volume_1day': '1931306.9655327', 'volume_7day': '7415776.833521948702977088', 'buy_price': '147', 'sell_price': '149', '24H_fluctate': '-1', '24H_fluctate_rate': '-0.67'}, 'WET': {'opening_price': '14.1', 'closing_price': '14.2', 'min_price': '14', 'max_price': '14.6', 'average_price': '14.232', 'units_traded': '30448930.79329362', 'volume_1day': '30448930.79329362', 'volume_7day': '221388675.154823752180292387', 'buy_price': '14.1', 'sell_price': '14.2', '24H_fluctate': '0.1', '24H_fluctate_rate': '0.70'}, 'XVG': {'opening_price': '7.85', 'closing_price': '7.84', 'min_price': '7.81', 'max_price': '8.09', 'average_price': '7.9506', 'units_traded': '4594889.31212712', 'volume_1day': '4594889.31212712', 'volume_7day': '51923003.3704202', 'buy_price': '7.84', 'sell_price': '7.85', '24H_fluctate': '-0', '24H_fluctate_rate': '-0.12'}, 'IOST': {'opening_price': '6.38', 'closing_price': '6.36', 'min_price': '6.21', 'max_price': '6.63', 'average_price': '6.4327', 'units_traded': '453893888.73580086', 'volume_1day': '453893888.73580086', 'volume_7day': '1078116289.097494111516116167', 'buy_price': '6.3', 'sell_price': '6.35', '24H_fluctate': '-0.02', '24H_fluctate_rate': '-0.31'}, 'POLY': {'opening_price': '160', 'closing_price': '158', 'min_price': '155', 'max_price': '165', 'average_price': '159.6748', 'units_traded': '1198928.18201001', 'volume_1day': '1198928.18201001', 'volume_7day': '11843962.886856497022859948', 'buy_price': '157', 'sell_price': '158', '24H_fluctate': '-2', '24H_fluctate_rate': '-1.25'}, 'HC': {'opening_price': '1401', 'closing_price': '1457', 'min_price': '1380', 'max_price': '1512', 'average_price': '1439.8739', 'units_traded': '82217.7806893', 'volume_1day': '82217.7806893', 'volume_7day': '1082887.3831029', 'buy_price': '1457', 'sell_price': '1464', '24H_fluctate': '56', '24H_fluctate_rate': '3.99'}, 'MEETONE': [], 'ADD': [], 'HORUS': [], 'CHL': [], 'EOSDAC': [], 'BLACK': [], 'ROM': {'opening_price': '0.12', 'closing_price': '0.13', 'min_price': '0.12', 'max_price': '0.13', 'average_price': '0.126', 'units_traded': '12847116822.39184945', 'volume_1day': '12847116822.39184945', 'volume_7day': '177933011829.638750891072391987', 'buy_price': '0.12', 'sell_price': '0.13', '24H_fluctate': '0.01', '24H_fluctate_rate': '8.33'}, 'AMO': {'opening_price': '1.73', 'closing_price': '1.7', 'min_price': '1.66', 'max_price': '1.82', 'average_price': '1.7287', 'units_traded': '1206444695.39599', 'volume_1day': '1206444695.39599', 'volume_7day': '23819349017.189033721168168063', 'buy_price': '1.69', 'sell_price': '1.7', '24H_fluctate': '-0.03', '24H_fluctate_rate': '-1.73'}, 'date': '1546520392003'}\n"
     ]
    }
   ],
   "source": [
    "currency = requests.get('https://api.bithumb.com/public/ticker/all').json()['data']\n",
    "print(currency)"
   ]
  },
  {
   "cell_type": "code",
   "execution_count": 14,
   "metadata": {},
   "outputs": [
    {
     "name": "stdout",
     "output_type": "stream",
     "text": [
      "BTC 하락장\n",
      "ETH 하락장\n",
      "DASH 하락장\n",
      "LTC 하락장\n",
      "ETC 하락장\n",
      "XRP 하락장\n",
      "BCH 하락장\n",
      "XMR 하락장\n",
      "ZEC 하락장\n",
      "QTUM 하락장\n",
      "BTG 하락장\n",
      "EOS 하락장\n",
      "ICX 하락장\n",
      "VET 하락장\n",
      "TRX 하락장\n",
      "ELF 하락장\n",
      "MITH 하락장\n",
      "MCO 하락장\n",
      "OMG 하락장\n",
      "KNC 하락장\n",
      "GNT 하락장\n",
      "ZIL 하락장\n",
      "ETHOS 하락장\n",
      "PAY 하락장\n",
      "WAX 하락장\n",
      "POWR 하락장\n",
      "LRC 하락장\n",
      "GTO 하락장\n",
      "STEEM 하락장\n",
      "STRAT 하락장\n",
      "ZRX 하락장\n",
      "REP 하락장\n",
      "AE 하락장\n",
      "XEM 하락장\n",
      "SNT 하락장\n",
      "ADA 하락장\n",
      "PPT 하락장\n",
      "CTXC 하락장\n",
      "CMT 하락장\n",
      "THETA 하락장\n",
      "WTC 하락장\n",
      "ITC 하락장\n",
      "TRUE 하락장\n",
      "ABT 하락장\n",
      "RNT 하락장\n",
      "PLY 하락장\n",
      "WAVES 하락장\n",
      "LINK 하락장\n",
      "ENJ 하락장\n",
      "PST 하락장\n",
      "SALT 하락장\n",
      "RDN 하락장\n",
      "LOOM 하락장\n",
      "BHPC 하락장\n",
      "PIVX 하락장\n",
      "INS 하락장\n",
      "BCD 하락장\n",
      "BZNT 하락장\n",
      "XLM 하락장\n",
      "OCN 하락장\n",
      "BSV 하락장\n",
      "TMTG 하락장\n",
      "BAT 하락장\n",
      "WET 하락장\n",
      "XVG 하락장\n",
      "IOST 하락장\n",
      "POLY 하락장\n",
      "HC 하락장\n",
      "ROM 하락장\n",
      "AMO 하락장\n"
     ]
    }
   ],
   "source": [
    "# 아래에 코드를 작성하세요. false  0  [] '' {} \n",
    "for i in currency.keys(): \n",
    "    if currency[i] == [] or i == 'date' :\n",
    "        continue\n",
    "    if float(currency[i]['max_price']) > float(currency[i]['opening_price']) + float(currency[i]['max_price']) - float(currency[i]['min_price']):\n",
    "        print(f'{i} 상승장')\n",
    "    else:\n",
    "        print(f'{i} 하락장')"
   ]
  },
  {
   "cell_type": "code",
   "execution_count": null,
   "metadata": {},
   "outputs": [],
   "source": []
  }
 ],
 "metadata": {
  "kernelspec": {
   "display_name": "Python 3",
   "language": "python",
   "name": "python3"
  },
  "language_info": {
   "codemirror_mode": {
    "name": "ipython",
    "version": 3
   },
   "file_extension": ".py",
   "mimetype": "text/x-python",
   "name": "python",
   "nbconvert_exporter": "python",
   "pygments_lexer": "ipython3",
   "version": "3.6.2"
  },
  "toc": {
   "base_numbering": 1,
   "nav_menu": {},
   "number_sections": true,
   "sideBar": true,
   "skip_h1_title": false,
   "title_cell": "Table of Contents",
   "title_sidebar": "Contents",
   "toc_cell": false,
   "toc_position": {},
   "toc_section_display": true,
   "toc_window_display": false
  }
 },
 "nbformat": 4,
 "nbformat_minor": 2
}
