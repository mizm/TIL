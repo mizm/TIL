{
 "cells": [
  {
   "cell_type": "markdown",
   "metadata": {},
   "source": [
    "# 행맨 게임 만들기 "
   ]
  },
  {
   "cell_type": "markdown",
   "metadata": {},
   "source": [
    "## 답안 확인 하기\n",
    "\n",
    "> 행맨 게임을 위한 코드를 작성해봅시다. \n",
    ">\n",
    "> `isanswer(answer, letters)`는 정답 문자열(answer)과 추측 알파벳의 리스트(letters)를 받아서, True/False 결과를 반환합니다."
   ]
  },
  {
   "cell_type": "code",
   "execution_count": 3,
   "metadata": {},
   "outputs": [],
   "source": [
    "# 여기에 코드를 작성하세요.\n",
    "def isanswer(answer, letters):\n",
    "    s = 0\n",
    "    for i in letters :\n",
    "        s += answer.count(i)\n",
    "    return s == len(answer)"
   ]
  },
  {
   "cell_type": "code",
   "execution_count": 4,
   "metadata": {
    "scrolled": true
   },
   "outputs": [
    {
     "data": {
      "text/plain": [
       "False"
      ]
     },
     "execution_count": 4,
     "metadata": {},
     "output_type": "execute_result"
    }
   ],
   "source": [
    "isanswer('apple', ['a', 'p', 'l']) #=> False"
   ]
  },
  {
   "cell_type": "markdown",
   "metadata": {},
   "source": [
    "## 현재 상태 출력하기\n",
    "\n",
    "> 행맨 게임을 위한 코드를 작성해봅시다. \n",
    ">\n",
    "> `status(answer, letters)`는 정답 문자열(answer)과 추측 알파벳의 리스트(letters)를 받아서, 현재 결과를 반환합니다."
   ]
  },
  {
   "cell_type": "code",
   "execution_count": 5,
   "metadata": {},
   "outputs": [],
   "source": [
    "# replace\n",
    "def status(answer, letters):\n",
    "    s = answer[:]\n",
    "    for i in letters :\n",
    "        s = s.replace(i,'_')\n",
    "    return ''.join(['_' if a == e else e for a,e in zip(s,answer)])\n",
    "    \n"
   ]
  },
  {
   "cell_type": "code",
   "execution_count": 6,
   "metadata": {},
   "outputs": [
    {
     "data": {
      "text/plain": [
       "'appl_'"
      ]
     },
     "execution_count": 6,
     "metadata": {},
     "output_type": "execute_result"
    }
   ],
   "source": [
    "status('apple', ['a', 'p', 'l']) #=> 'appl_'"
   ]
  },
  {
   "cell_type": "markdown",
   "metadata": {},
   "source": [
    "## 행맨 로직 만들기 - 자유코딩!\n",
    "\n",
    "> 위의 코드를 활용하여 `hangman(answer)`를 만들어봅시다!\n",
    ">\n",
    "> 사용자가 답을 맞출 때까지 진행하며, 8번내로 정답을 맞춰야 합니다.\n"
   ]
  },
  {
   "cell_type": "code",
   "execution_count": 7,
   "metadata": {},
   "outputs": [],
   "source": [
    "def hangman(answer):\n",
    "    for i in range(8) :\n",
    "        print(f'남은 횟수 {8 - i}')\n",
    "        letters = input('확인할 문자를 스페이스 단위로 띄어서 쓰시오').split()\n",
    "        if isanswer(answer,letters) :\n",
    "            print(status(answer, letters))\n",
    "            print('정답')\n",
    "            return\n",
    "        else :\n",
    "            print(status(answer, letters))\n",
    "    print('실패')\n",
    "        "
   ]
  },
  {
   "cell_type": "code",
   "execution_count": 8,
   "metadata": {},
   "outputs": [
    {
     "name": "stdout",
     "output_type": "stream",
     "text": [
      "남은 횟수 8\n",
      "확인할 문자를 스페이스 단위로 띄어서 쓰시오a\n",
      "a____\n",
      "남은 횟수 7\n",
      "확인할 문자를 스페이스 단위로 띄어서 쓰시오s\n",
      "_____\n",
      "남은 횟수 6\n",
      "확인할 문자를 스페이스 단위로 띄어서 쓰시오f\n",
      "_____\n",
      "남은 횟수 5\n",
      "확인할 문자를 스페이스 단위로 띄어서 쓰시오e\n",
      "____e\n",
      "남은 횟수 4\n",
      "확인할 문자를 스페이스 단위로 띄어서 쓰시오q\n",
      "_____\n",
      "남은 횟수 3\n",
      "확인할 문자를 스페이스 단위로 띄어서 쓰시오a s e s\n",
      "a___e\n",
      "남은 횟수 2\n",
      "확인할 문자를 스페이스 단위로 띄어서 쓰시오a p e\n",
      "app_e\n",
      "남은 횟수 1\n",
      "확인할 문자를 스페이스 단위로 띄어서 쓰시오a p e w\n",
      "app_e\n",
      "실패\n"
     ]
    }
   ],
   "source": [
    "hangman('apple')"
   ]
  },
  {
   "cell_type": "code",
   "execution_count": 19,
   "metadata": {},
   "outputs": [
    {
     "name": "stdout",
     "output_type": "stream",
     "text": [
      "1 0\n",
      "0 1\n",
      "-1 0\n",
      "0 -1\n",
      "2 0\n",
      "0 2\n",
      "-2 0\n",
      "0 -2\n",
      "3 0\n",
      "0 3\n",
      "-3 0\n",
      "0 -3\n",
      "1 -2\n",
      "-1 2\n",
      "1 2\n",
      "-1 -2\n",
      "1 -1\n",
      "-1 1\n",
      "1 1\n",
      "-1 -1\n",
      "2 -2\n",
      "-2 2\n",
      "2 2\n",
      "-2 -2\n",
      "2 -1\n",
      "-2 1\n",
      "2 1\n",
      "-2 -1\n"
     ]
    }
   ],
   "source": [
    "n = 3\n",
    "x=y=0\n",
    "for i in range(1,n+1) :\n",
    "    print(x+i,y)\n",
    "    print(x,y+i)\n",
    "    print(x-i,y)\n",
    "    print(x,y-i)\n",
    "for i in range(1,n):\n",
    "    for k in range(1,n) :\n",
    "        j=n-k\n",
    "        print(x+i,y-j)\n",
    "        print(x-i,y+j)\n",
    "        print(x+i,y+j)\n",
    "        print(x-i,y-j)"
   ]
  },
  {
   "cell_type": "code",
   "execution_count": null,
   "metadata": {},
   "outputs": [],
   "source": []
  },
  {
   "cell_type": "code",
   "execution_count": null,
   "metadata": {},
   "outputs": [],
   "source": []
  }
 ],
 "metadata": {
  "kernelspec": {
   "display_name": "Python 3",
   "language": "python",
   "name": "python3"
  },
  "latex_envs": {
   "LaTeX_envs_menu_present": true,
   "autoclose": false,
   "autocomplete": true,
   "bibliofile": "biblio.bib",
   "cite_by": "apalike",
   "current_citInitial": 1,
   "eqLabelWithNumbers": true,
   "eqNumInitial": 1,
   "hotkeys": {
    "equation": "Ctrl-E",
    "itemize": "Ctrl-I"
   },
   "labels_anchors": false,
   "latex_user_defs": false,
   "report_style_numbering": false,
   "user_envs_cfg": false
  },
  "toc": {
   "base_numbering": 1,
   "nav_menu": {},
   "number_sections": true,
   "sideBar": true,
   "skip_h1_title": false,
   "title_cell": "Table of Contents",
   "title_sidebar": "Contents",
   "toc_cell": false,
   "toc_position": {},
   "toc_section_display": true,
   "toc_window_display": false
  }
 },
 "nbformat": 4,
 "nbformat_minor": 2
}
